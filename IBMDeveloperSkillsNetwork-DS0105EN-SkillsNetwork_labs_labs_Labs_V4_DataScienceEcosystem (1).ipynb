{
  "metadata": {
    "language_info": {
      "codemirror_mode": {
        "name": "python",
        "version": 3
      },
      "file_extension": ".py",
      "mimetype": "text/x-python",
      "name": "python",
      "nbconvert_exporter": "python",
      "pygments_lexer": "ipython3",
      "version": "3.8"
    },
    "kernelspec": {
      "name": "python",
      "display_name": "Python (Pyodide)",
      "language": "python"
    }
  },
  "nbformat_minor": 4,
  "nbformat": 4,
  "cells": [
    {
      "cell_type": "markdown",
      "source": "# Data Science Tools and Ecosystem",
      "metadata": {}
    },
    {
      "cell_type": "markdown",
      "source": "In this notebook, Data Science Tools and Ecosystem are summarized",
      "metadata": {}
    },
    {
      "cell_type": "markdown",
      "source": "Some of the popular languages that Data Scientists use are:\n\n1. Python\n2. R\n3. Julia\n4. SQL\n5. Scala ",
      "metadata": {}
    },
    {
      "cell_type": "markdown",
      "source": "Some of the commonly used libraries used by Data Scientists include:\n\n1. NumPy\n2. Pandas\n3. Matplotlib\n4. TensorFlow\n5. Seaborn\n6. PyTorch\n7. Statsmodels",
      "metadata": {}
    },
    {
      "cell_type": "markdown",
      "source": "| Data Science Tools       |\n|--------------------------|\n| Jupyter Notebook         |\n| RStudio                  |\n| VS Code                  |\n",
      "metadata": {}
    },
    {
      "cell_type": "markdown",
      "source": "# Below are a few examples of evaluating arithmetic expressions in Python\n\nArithmetic expressions involve mathematical operations such as addition, subtraction, multiplication, and division. Here are some examples:\n\n1. Addition: \\(3 + 5 = 8\\)\n2. Subtraction: \\(10 - 4 = 6\\)\n3. Multiplication: \\(2 * 6 = 12\\)\n4. Division: \\(15 Div 3 = 5\\)\n\n### More Complex Expression\n\n\\((4 + 6) \\times 2 - 7\\)\n\n",
      "metadata": {}
    },
    {
      "cell_type": "code",
      "source": "result = (3 * 4) + 5\n\nresult",
      "metadata": {
        "trusted": true
      },
      "execution_count": 1,
      "outputs": [
        {
          "execution_count": 1,
          "output_type": "execute_result",
          "data": {
            "text/plain": "17"
          },
          "metadata": {}
        }
      ]
    },
    {
      "cell_type": "code",
      "source": "\nminutes = 200\nhours = minutes / 60\n\nhours",
      "metadata": {
        "trusted": true
      },
      "execution_count": 2,
      "outputs": [
        {
          "execution_count": 2,
          "output_type": "execute_result",
          "data": {
            "text/plain": "3.3333333333333335"
          },
          "metadata": {}
        }
      ]
    },
    {
      "cell_type": "markdown",
      "source": "# Objectives:\n\n- **List popular languages for Data Science**\n- **Introduce commonly used libraries in Data Science**\n- **Demonstrate how to create tables and code cells in Jupyter Notebook**\n- **Illustrate basic arithmetic expressions and operations**\n- **Provide examples of converting units, such as minutes to hours**\n",
      "metadata": {}
    },
    {
      "cell_type": "markdown",
      "source": "## Author\n\nAnshu Sharma\n\n",
      "metadata": {}
    }
  ]
}